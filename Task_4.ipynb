{
 "cells": [
  {
   "attachments": {},
   "cell_type": "markdown",
   "metadata": {},
   "source": [
    "# Задание 5.\n",
    "\n",
    "Загрузите [данные по изменению температуры поверхности земли](https://www.kaggle.com/datasets/berkeleyearth/climate-change-earth-surface-temperature-data). Для этого может понадобится зарегистрироваться на [Kaggle](https://kaggle.com). Затем нужно будет работать с данными, которые содержатся в файле **GlobalLandTemperaturesByMajorCity.csv**\n",
    "\n",
    "**NB** Все подсчеты необходимо делать с помощью `PySpark`, без применения `pandas api`. Можно использоать `SQL`."
   ]
  },
  {
   "cell_type": "code",
   "execution_count": 5,
   "metadata": {},
   "outputs": [
    {
     "name": "stdout",
     "output_type": "stream",
     "text": [
      "+----------+------------------+-----------------------------+-------+-------------+--------+---------+\n",
      "|        dt|AverageTemperature|AverageTemperatureUncertainty|   City|      Country|Latitude|Longitude|\n",
      "+----------+------------------+-----------------------------+-------+-------------+--------+---------+\n",
      "|1849-01-01|            26.704|                        1.435|Abidjan|Côte D'Ivoire|   5.63N|    3.23W|\n",
      "|1849-02-01|            27.434|                        1.362|Abidjan|Côte D'Ivoire|   5.63N|    3.23W|\n",
      "|1849-03-01|            28.101|                        1.612|Abidjan|Côte D'Ivoire|   5.63N|    3.23W|\n",
      "|1849-04-01|             26.14|           1.3869999999999998|Abidjan|Côte D'Ivoire|   5.63N|    3.23W|\n",
      "|1849-05-01|            25.427|                          1.2|Abidjan|Côte D'Ivoire|   5.63N|    3.23W|\n",
      "|1849-06-01|            24.844|                        1.402|Abidjan|Côte D'Ivoire|   5.63N|    3.23W|\n",
      "|1849-07-01|24.058000000000003|                        1.254|Abidjan|Côte D'Ivoire|   5.63N|    3.23W|\n",
      "|1849-08-01|            23.576|                        1.265|Abidjan|Côte D'Ivoire|   5.63N|    3.23W|\n",
      "|1849-09-01|            23.662|                        1.226|Abidjan|Côte D'Ivoire|   5.63N|    3.23W|\n",
      "|1849-10-01|            25.263|                        1.175|Abidjan|Côte D'Ivoire|   5.63N|    3.23W|\n",
      "+----------+------------------+-----------------------------+-------+-------------+--------+---------+\n",
      "only showing top 10 rows\n",
      "\n"
     ]
    }
   ],
   "source": [
    "import zipfile\n",
    "import pandas as pd\n",
    "from pyspark.sql import SparkSession\n",
    "import os\n",
    "\n",
    "spark = SparkSession.builder.master(\"local[*]\").appName(\"PySpark\").getOrCreate()\n",
    "\n",
    "zip_file = \"archive.zip\"\n",
    "file_inside_zip = \"GlobalLandTemperaturesByMajorCity.csv\"\n",
    "\n",
    "extracted_dir = \"./extracted_files\"\n",
    "os.makedirs(extracted_dir, exist_ok=True)\n",
    "\n",
    "with zipfile.ZipFile(zip_file) as z:\n",
    "    z.extract(file_inside_zip, path=extracted_dir)\n",
    "    extracted_file_path = os.path.join(extracted_dir, file_inside_zip)\n",
    "\n",
    "    df = spark.read.csv(extracted_file_path, header=True, inferSchema=True)\n",
    "\n",
    "df.show(10)\n",
    "\n",
    "import shutil\n",
    "shutil.rmtree(extracted_dir)"
   ]
  },
  {
   "cell_type": "markdown",
   "metadata": {},
   "source": [
    "# Задание 4.1 (1 балл)\n",
    "\n",
    "В последующих заданиях будут учитываться данные начиная с 01.01.1950. Для этого создайте новый `DataFrame`, в котором удалены все строки до 01.01.1950. Используйте созданный DataFrame в последующих заданиях.  "
   ]
  },
  {
   "cell_type": "code",
   "execution_count": 15,
   "metadata": {},
   "outputs": [],
   "source": [
    "from pyspark.sql.functions import col, to_date, variance"
   ]
  },
  {
   "cell_type": "code",
   "execution_count": 17,
   "metadata": {},
   "outputs": [
    {
     "name": "stdout",
     "output_type": "stream",
     "text": [
      "+----------+------------------+-----------------------------+-------+-------------+--------+---------+\n",
      "|        dt|AverageTemperature|AverageTemperatureUncertainty|   City|      Country|Latitude|Longitude|\n",
      "+----------+------------------+-----------------------------+-------+-------------+--------+---------+\n",
      "|1950-01-01|26.773000000000003|                        0.239|Abidjan|Côte D'Ivoire|   5.63N|    3.23W|\n",
      "|1950-02-01|27.526999999999997|                        0.348|Abidjan|Côte D'Ivoire|   5.63N|    3.23W|\n",
      "|1950-03-01|            28.344|                        0.431|Abidjan|Côte D'Ivoire|   5.63N|    3.23W|\n",
      "|1950-04-01|             27.83|                        0.467|Abidjan|Côte D'Ivoire|   5.63N|    3.23W|\n",
      "|1950-05-01|            26.896|                        0.248|Abidjan|Côte D'Ivoire|   5.63N|    3.23W|\n",
      "|1950-06-01|            25.454|                        0.209|Abidjan|Côte D'Ivoire|   5.63N|    3.23W|\n",
      "|1950-07-01|            24.878|                        0.403|Abidjan|Côte D'Ivoire|   5.63N|    3.23W|\n",
      "|1950-08-01|            23.734|                        0.314|Abidjan|Côte D'Ivoire|   5.63N|    3.23W|\n",
      "|1950-09-01|            24.253|                        0.257|Abidjan|Côte D'Ivoire|   5.63N|    3.23W|\n",
      "|1950-10-01|            25.266|                        0.191|Abidjan|Côte D'Ivoire|   5.63N|    3.23W|\n",
      "+----------+------------------+-----------------------------+-------+-------------+--------+---------+\n",
      "only showing top 10 rows\n",
      "\n"
     ]
    }
   ],
   "source": [
    "df1 = df.filter(col('dt') >= '1950-01-01')\n",
    "\n",
    "df1.show(10)"
   ]
  },
  {
   "cell_type": "markdown",
   "metadata": {},
   "source": [
    "# Задание 4.2 (2 балла)\n",
    "\n",
    "Найдите город, для которого выборочная дисперсия температур на приведенных данных максимальна. "
   ]
  },
  {
   "cell_type": "code",
   "execution_count": 21,
   "metadata": {},
   "outputs": [
    {
     "name": "stdout",
     "output_type": "stream",
     "text": [
      "Harbin\n"
     ]
    }
   ],
   "source": [
    "#выполним группировку данных по городу и вычислим выборочную дисперсию температур\n",
    "variance_df = df1.groupBy('City').agg(variance('AverageTemperature').alias('TemperatureVariance'))\n",
    "#сортируем города по возрастанию значений температур и выводим первый\n",
    "max_variance_city = variance_df.orderBy(col('TemperatureVariance').desc()).select('City').first()[0]\n",
    "print(max_variance_city)"
   ]
  },
  {
   "cell_type": "markdown",
   "metadata": {},
   "source": [
    "# Задание 4.3 (2 баллов)\n",
    "\n",
    "Посчитайте данные по среднегодовой температуре в Санкт-Петербурге. Определите года, в которых средняя температура была выше, чем в предыдущем  и последующем году. "
   ]
  },
  {
   "cell_type": "code",
   "execution_count": 27,
   "metadata": {},
   "outputs": [],
   "source": [
    "from pyspark.sql import functions as F\n",
    "from pyspark.sql.window import Window"
   ]
  },
  {
   "cell_type": "code",
   "execution_count": 29,
   "metadata": {},
   "outputs": [
    {
     "name": "stdout",
     "output_type": "stream",
     "text": [
      "+----+------------------+\n",
      "|Year|    AvgTemperature|\n",
      "+----+------------------+\n",
      "|1953| 4.840083333333333|\n",
      "|1957| 4.856249999999999|\n",
      "|1959| 5.026000000000001|\n",
      "|1961| 5.842083333333334|\n",
      "|1964| 4.414166666666666|\n",
      "|1967| 4.618666666666667|\n",
      "|1972| 5.294333333333333|\n",
      "|1975| 5.885249999999999|\n",
      "|1977|3.9462499999999996|\n",
      "|1979|4.0605833333333345|\n",
      "|1983| 5.237583333333333|\n",
      "|1986| 4.054749999999999|\n",
      "|1989| 6.585916666666667|\n",
      "|1992| 5.415833333333334|\n",
      "|1995| 5.422583333333333|\n",
      "|1997| 4.668416666666667|\n",
      "|2000| 6.184666666666665|\n",
      "|2002|           5.07675|\n",
      "|2005| 5.553249999999999|\n",
      "|2008|6.4084166666666675|\n",
      "+----+------------------+\n",
      "only showing top 20 rows\n",
      "\n"
     ]
    }
   ],
   "source": [
    "#берём данные для Санкт-Петербурга и извлекаем год\n",
    "spb_df = df1.filter(df1.City == 'Saint Petersburg')\n",
    "spb_df = spb_df.withColumn('Year', F.year(F.to_date('dt')))\n",
    "\n",
    "#вычисляем среднегодовую температуру для каждого года в Санкт-Петербурге\n",
    "avg_temp_yearly = spb_df.groupBy('Year').agg(F.avg('AverageTemperature').alias('AvgTemperature'))\n",
    "#вычисляем среднюю температуру в предыдущем и следующем году\n",
    "windowSpec = Window.orderBy('Year')\n",
    "avg_temp_yearly = avg_temp_yearly.withColumn('PrevYearAvgTemp', F.lag('AvgTemperature').over(windowSpec))\n",
    "avg_temp_yearly = avg_temp_yearly.withColumn('NextYearAvgTemp', F.lead('AvgTemperature').over(windowSpec))\n",
    "\n",
    "#выбираем года, в которых средняя температура была выше, чем в предыдущем и последующем году\n",
    "higher_than_prev_and_next = avg_temp_yearly.filter((avg_temp_yearly['AvgTemperature'] > avg_temp_yearly['PrevYearAvgTemp']) &\n",
    "                                                   (avg_temp_yearly['AvgTemperature'] > avg_temp_yearly['NextYearAvgTemp']))\n",
    "higher_than_prev_and_next.select('Year', 'AvgTemperature').orderBy('Year').show()"
   ]
  },
  {
   "cell_type": "markdown",
   "metadata": {},
   "source": [
    "# Задание 4.4 (4 балла)\n",
    "\n",
    "Найдите города, для которых: \n",
    "1. Разница между максимальным и минимальным значением среднегодовой температуры в выборке максимальна.\n",
    "2. Самая большая средняя разница между средней температурой января и средней температурой июля.\n",
    "3. Наибольшее среднее количество месяцев с отрицательной температурой в году."
   ]
  },
  {
   "cell_type": "code",
   "execution_count": null,
   "metadata": {},
   "outputs": [],
   "source": []
  },
  {
   "cell_type": "markdown",
   "metadata": {},
   "source": []
  }
 ],
 "metadata": {
  "kernelspec": {
   "display_name": "Python 3 (ipykernel)",
   "language": "python",
   "name": "python3"
  },
  "language_info": {
   "codemirror_mode": {
    "name": "ipython",
    "version": 3
   },
   "file_extension": ".py",
   "mimetype": "text/x-python",
   "name": "python",
   "nbconvert_exporter": "python",
   "pygments_lexer": "ipython3",
   "version": "3.11.7"
  },
  "vscode": {
   "interpreter": {
    "hash": "916dbcbb3f70747c44a77c7bcd40155683ae19c65e1c03b4aa3499c5328201f1"
   }
  }
 },
 "nbformat": 4,
 "nbformat_minor": 4
}
